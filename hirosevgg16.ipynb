{
  "nbformat": 4,
  "nbformat_minor": 0,
  "metadata": {
    "colab": {
      "name": "hirosevgg16.ipynb",
      "provenance": [],
      "authorship_tag": "ABX9TyPiWW1AwCGIiujD+4aOF2LH",
      "include_colab_link": true
    },
    "kernelspec": {
      "name": "python3",
      "display_name": "Python 3"
    },
    "accelerator": "GPU"
  },
  "cells": [
    {
      "cell_type": "markdown",
      "metadata": {
        "id": "view-in-github",
        "colab_type": "text"
      },
      "source": [
        "<a href=\"https://colab.research.google.com/github/doyoungman/hangman/blob/master/hirosevgg16.ipynb\" target=\"_parent\"><img src=\"https://colab.research.google.com/assets/colab-badge.svg\" alt=\"Open In Colab\"/></a>"
      ]
    },
    {
      "cell_type": "code",
      "metadata": {
        "id": "1a0mRKH77GYf",
        "colab_type": "code",
        "colab": {
          "base_uri": "https://localhost:8080/",
          "height": 224
        },
        "outputId": "6d63ba7c-5cd2-46be-9e15-0cc5df2e2f1d"
      },
      "source": [
        "# google-drive-ocamlfuseのインストール\n",
        "# https://github.com/astrada/google-drive-ocamlfuse\n",
        "!apt-get install -y -qq software-properties-common python-software-properties module-init-tools\n",
        "!add-apt-repository -y ppa:alessandro-strada/ppa 2>&1 > /dev/null\n",
        "!apt-get update -qq 2>&1 > /dev/null\n",
        "!apt-get -y install -qq google-drive-ocamlfuse fuse\n",
        "\n",
        "# Colab用のAuth token作成\n",
        "from google.colab import auth\n",
        "auth.authenticate_user()\n",
        "\n",
        "# Drive FUSE library用のcredential生成\n",
        "from oauth2client.client import GoogleCredentials\n",
        "creds = GoogleCredentials.get_application_default()\n",
        "import getpass\n",
        "!google-drive-ocamlfuse -headless -id={creds.client_id} -secret={creds.client_secret} < /dev/null 2>&1 | grep URL\n",
        "vcode = getpass.getpass()\n",
        "!echo {vcode} | google-drive-ocamlfuse -headless -id={creds.client_id} -secret={creds.client_secret}\n",
        "\n",
        "# drive/ を作り、そこにGoogle Driveをマウントする\n",
        "!mkdir -p drive\n",
        "!google-drive-ocamlfuse drive"
      ],
      "execution_count": 1,
      "outputs": [
        {
          "output_type": "stream",
          "text": [
            "E: Package 'python-software-properties' has no installation candidate\n",
            "Selecting previously unselected package google-drive-ocamlfuse.\n",
            "(Reading database ... 144379 files and directories currently installed.)\n",
            "Preparing to unpack .../google-drive-ocamlfuse_0.7.22-0ubuntu3~ubuntu18.04.1_amd64.deb ...\n",
            "Unpacking google-drive-ocamlfuse (0.7.22-0ubuntu3~ubuntu18.04.1) ...\n",
            "Setting up google-drive-ocamlfuse (0.7.22-0ubuntu3~ubuntu18.04.1) ...\n",
            "Processing triggers for man-db (2.8.3-2ubuntu0.1) ...\n",
            "Please, open the following URL in a web browser: https://accounts.google.com/o/oauth2/auth?client_id=32555940559.apps.googleusercontent.com&redirect_uri=urn%3Aietf%3Awg%3Aoauth%3A2.0%3Aoob&scope=https%3A%2F%2Fwww.googleapis.com%2Fauth%2Fdrive&response_type=code&access_type=offline&approval_prompt=force\n",
            "··········\n",
            "Please, open the following URL in a web browser: https://accounts.google.com/o/oauth2/auth?client_id=32555940559.apps.googleusercontent.com&redirect_uri=urn%3Aietf%3Awg%3Aoauth%3A2.0%3Aoob&scope=https%3A%2F%2Fwww.googleapis.com%2Fauth%2Fdrive&response_type=code&access_type=offline&approval_prompt=force\n",
            "Please enter the verification code: Access token retrieved correctly.\n"
          ],
          "name": "stdout"
        }
      ]
    },
    {
      "cell_type": "code",
      "metadata": {
        "id": "oWPX0mPA98Ss",
        "colab_type": "code",
        "colab": {
          "base_uri": "https://localhost:8080/",
          "height": 249
        },
        "outputId": "5e133895-1929-44a4-c57d-c821126f6123"
      },
      "source": [
        "import numpy as np\n",
        "import tensorflow as tf\n",
        "import random as rn\n",
        "import os\n",
        "from keras import backend as K\n",
        "import matplotlib.pyplot as plt\n",
        "os.environ['PYTHONHASHSEED'] = '0'\n",
        "np.random.seed(0)\n",
        "rn.seed(0)\n",
        "session_conf = tf.ConfigProto(intra_op_parallelism_threads=1, inter_op_parallelism_threads=1)\n",
        "tf.set_random_seed(0)\n",
        "sess = tf.Session(graph=tf.get_default_graph(), config=session_conf)\n",
        "K.set_session(sess)\n"
      ],
      "execution_count": 2,
      "outputs": [
        {
          "output_type": "stream",
          "text": [
            "Using TensorFlow backend.\n"
          ],
          "name": "stderr"
        },
        {
          "output_type": "error",
          "ename": "AttributeError",
          "evalue": "ignored",
          "traceback": [
            "\u001b[0;31m---------------------------------------------------------------------------\u001b[0m",
            "\u001b[0;31mAttributeError\u001b[0m                            Traceback (most recent call last)",
            "\u001b[0;32m<ipython-input-2-06151670c650>\u001b[0m in \u001b[0;36m<module>\u001b[0;34m()\u001b[0m\n\u001b[1;32m      8\u001b[0m \u001b[0mnp\u001b[0m\u001b[0;34m.\u001b[0m\u001b[0mrandom\u001b[0m\u001b[0;34m.\u001b[0m\u001b[0mseed\u001b[0m\u001b[0;34m(\u001b[0m\u001b[0;36m0\u001b[0m\u001b[0;34m)\u001b[0m\u001b[0;34m\u001b[0m\u001b[0;34m\u001b[0m\u001b[0m\n\u001b[1;32m      9\u001b[0m \u001b[0mrn\u001b[0m\u001b[0;34m.\u001b[0m\u001b[0mseed\u001b[0m\u001b[0;34m(\u001b[0m\u001b[0;36m0\u001b[0m\u001b[0;34m)\u001b[0m\u001b[0;34m\u001b[0m\u001b[0;34m\u001b[0m\u001b[0m\n\u001b[0;32m---> 10\u001b[0;31m \u001b[0msession_conf\u001b[0m \u001b[0;34m=\u001b[0m \u001b[0mtf\u001b[0m\u001b[0;34m.\u001b[0m\u001b[0mConfigProto\u001b[0m\u001b[0;34m(\u001b[0m\u001b[0mintra_op_parallelism_threads\u001b[0m\u001b[0;34m=\u001b[0m\u001b[0;36m1\u001b[0m\u001b[0;34m,\u001b[0m \u001b[0minter_op_parallelism_threads\u001b[0m\u001b[0;34m=\u001b[0m\u001b[0;36m1\u001b[0m\u001b[0;34m)\u001b[0m\u001b[0;34m\u001b[0m\u001b[0;34m\u001b[0m\u001b[0m\n\u001b[0m\u001b[1;32m     11\u001b[0m \u001b[0mtf\u001b[0m\u001b[0;34m.\u001b[0m\u001b[0mset_random_seed\u001b[0m\u001b[0;34m(\u001b[0m\u001b[0;36m0\u001b[0m\u001b[0;34m)\u001b[0m\u001b[0;34m\u001b[0m\u001b[0;34m\u001b[0m\u001b[0m\n\u001b[1;32m     12\u001b[0m \u001b[0msess\u001b[0m \u001b[0;34m=\u001b[0m \u001b[0mtf\u001b[0m\u001b[0;34m.\u001b[0m\u001b[0mSession\u001b[0m\u001b[0;34m(\u001b[0m\u001b[0mgraph\u001b[0m\u001b[0;34m=\u001b[0m\u001b[0mtf\u001b[0m\u001b[0;34m.\u001b[0m\u001b[0mget_default_graph\u001b[0m\u001b[0;34m(\u001b[0m\u001b[0;34m)\u001b[0m\u001b[0;34m,\u001b[0m \u001b[0mconfig\u001b[0m\u001b[0;34m=\u001b[0m\u001b[0msession_conf\u001b[0m\u001b[0;34m)\u001b[0m\u001b[0;34m\u001b[0m\u001b[0;34m\u001b[0m\u001b[0m\n",
            "\u001b[0;31mAttributeError\u001b[0m: module 'tensorflow' has no attribute 'ConfigProto'"
          ]
        }
      ]
    },
    {
      "cell_type": "code",
      "metadata": {
        "id": "0_N-LJ6mDbnO",
        "colab_type": "code",
        "colab": {
          "base_uri": "https://localhost:8080/",
          "height": 68
        },
        "outputId": "7135d7d9-6196-407a-a1af-30e89aa09440"
      },
      "source": [
        "from keras.preprocessing import image\n",
        "from sklearn.model_selection import train_test_split\n",
        "import keras\n",
        "import numpy as np\n",
        "import os\n",
        "input_shape = (224, 224, 3)\n",
        "batch_size = 128\n",
        "epochs = 100\n",
        "num_classes = 2\n",
        "x_train = []\n",
        "y_train = []\n",
        "x_test = []\n",
        "y_test = []\n",
        "\n",
        "for f in os.listdir(\"drive/dnn/arisu_train_extend\"):\n",
        "    x_train.append(image.img_to_array(image.load_img(\"drive/dnn/arisu_train_extend/\"+f, target_size=input_shape[:2])))\n",
        "    y_train.append(0)\n",
        "\n",
        "for f in os.listdir(\"drive/dnn/suzu_train_extend\"):\n",
        "    x_train.append(image.img_to_array(image.load_img(\"drive/dnn/suzu_train_extend/\"+f, target_size=input_shape[:2])))\n",
        "    y_train.append(1)\n",
        "    \n",
        "for f in os.listdir(\"drive/dnn/arisu_test\"):\n",
        "    x_test.append(image.img_to_array(image.load_img(\"drive/dnn/arisu_test/\"+f, target_size=input_shape[:2])))\n",
        "    y_test.append(0)\n",
        "    \n",
        "for f in os.listdir(\"drive/dnn/suzu_test\"):\n",
        "    x_test.append(image.img_to_array(image.load_img(\"drive/dnn/suzu_test/\"+f, target_size=input_shape[:2])))\n",
        "    y_test.append(1)\n",
        "\n",
        "    \n",
        "x_train = np.asarray(x_train)\n",
        "x_train /= 255\n",
        "y_train = np.asarray(y_train)\n",
        "y_train = keras.utils.to_categorical(y_train, num_classes)\n",
        "\n",
        "x_test = np.asarray(x_test)\n",
        "x_test /= 255\n",
        "y_test = np.asarray(y_test)\n",
        "y_test = keras.utils.to_categorical(y_test, num_classes)\n",
        "#tsst_split関数でデータを分割\n",
        "#x_train, x_test, y_train, y_test = train_test_split(x, y, test_size=0.33, random_state= 3)\n",
        "\n",
        "print(type(x_train))\n",
        "# <class 'numpy.ndarray'>\n",
        "\n",
        "print(x_train.shape, y_train.shape)\n",
        "# (1400 224, 224, 3) (1400, 1)\n",
        "\n",
        "print(x_test.shape, y_test.shape)\n",
        "# (60, 224, 224, 3) (60, 1)\n"
      ],
      "execution_count": 4,
      "outputs": [
        {
          "output_type": "stream",
          "text": [
            "<class 'numpy.ndarray'>\n",
            "(1400, 224, 224, 3) (1400, 2)\n",
            "(60, 224, 224, 3) (60, 2)\n"
          ],
          "name": "stdout"
        }
      ]
    },
    {
      "cell_type": "code",
      "metadata": {
        "id": "N8q6pZHtDcjH",
        "colab_type": "code",
        "colab": {
          "base_uri": "https://localhost:8080/",
          "height": 935
        },
        "outputId": "d3959fb9-7b24-4e2b-925a-5993dee3475e"
      },
      "source": [
        "from keras.models import Sequential, Model\n",
        "from keras.layers import Dense, GlobalAveragePooling2D,Dropout\n",
        "from keras.applications.vgg16 import VGG16\n",
        "base_model = VGG16(weights='imagenet', include_top=False)\n",
        "x = base_model.output\n",
        "x = GlobalAveragePooling2D()(x)\n",
        "x = Dense(1024, activation='relu')(x)\n",
        "x = Dropout(0.4)(x)\n",
        "predictions = Dense(num_classes, activation='softmax')(x)\n",
        "model = Model(inputs=base_model.input, outputs=predictions)\n",
        "for layer in base_model.layers:\n",
        "    layer.trainable = False\n",
        "model.compile(loss=keras.losses.categorical_crossentropy,\n",
        "              optimizer=\"adam\",\n",
        "              metrics=['accuracy'])\n",
        "model.summary()\n"
      ],
      "execution_count": 5,
      "outputs": [
        {
          "output_type": "stream",
          "text": [
            "Model: \"model_1\"\n",
            "_________________________________________________________________\n",
            "Layer (type)                 Output Shape              Param #   \n",
            "=================================================================\n",
            "input_2 (InputLayer)         (None, None, None, 3)     0         \n",
            "_________________________________________________________________\n",
            "block1_conv1 (Conv2D)        (None, None, None, 64)    1792      \n",
            "_________________________________________________________________\n",
            "block1_conv2 (Conv2D)        (None, None, None, 64)    36928     \n",
            "_________________________________________________________________\n",
            "block1_pool (MaxPooling2D)   (None, None, None, 64)    0         \n",
            "_________________________________________________________________\n",
            "block2_conv1 (Conv2D)        (None, None, None, 128)   73856     \n",
            "_________________________________________________________________\n",
            "block2_conv2 (Conv2D)        (None, None, None, 128)   147584    \n",
            "_________________________________________________________________\n",
            "block2_pool (MaxPooling2D)   (None, None, None, 128)   0         \n",
            "_________________________________________________________________\n",
            "block3_conv1 (Conv2D)        (None, None, None, 256)   295168    \n",
            "_________________________________________________________________\n",
            "block3_conv2 (Conv2D)        (None, None, None, 256)   590080    \n",
            "_________________________________________________________________\n",
            "block3_conv3 (Conv2D)        (None, None, None, 256)   590080    \n",
            "_________________________________________________________________\n",
            "block3_pool (MaxPooling2D)   (None, None, None, 256)   0         \n",
            "_________________________________________________________________\n",
            "block4_conv1 (Conv2D)        (None, None, None, 512)   1180160   \n",
            "_________________________________________________________________\n",
            "block4_conv2 (Conv2D)        (None, None, None, 512)   2359808   \n",
            "_________________________________________________________________\n",
            "block4_conv3 (Conv2D)        (None, None, None, 512)   2359808   \n",
            "_________________________________________________________________\n",
            "block4_pool (MaxPooling2D)   (None, None, None, 512)   0         \n",
            "_________________________________________________________________\n",
            "block5_conv1 (Conv2D)        (None, None, None, 512)   2359808   \n",
            "_________________________________________________________________\n",
            "block5_conv2 (Conv2D)        (None, None, None, 512)   2359808   \n",
            "_________________________________________________________________\n",
            "block5_conv3 (Conv2D)        (None, None, None, 512)   2359808   \n",
            "_________________________________________________________________\n",
            "block5_pool (MaxPooling2D)   (None, None, None, 512)   0         \n",
            "_________________________________________________________________\n",
            "global_average_pooling2d_2 ( (None, 512)               0         \n",
            "_________________________________________________________________\n",
            "dense_2 (Dense)              (None, 1024)              525312    \n",
            "_________________________________________________________________\n",
            "dropout_2 (Dropout)          (None, 1024)              0         \n",
            "_________________________________________________________________\n",
            "dense_3 (Dense)              (None, 2)                 2050      \n",
            "=================================================================\n",
            "Total params: 15,242,050\n",
            "Trainable params: 527,362\n",
            "Non-trainable params: 14,714,688\n",
            "_________________________________________________________________\n"
          ],
          "name": "stdout"
        }
      ]
    },
    {
      "cell_type": "code",
      "metadata": {
        "id": "yxjD5oncDg-d",
        "colab_type": "code",
        "colab": {
          "base_uri": "https://localhost:8080/",
          "height": 1000
        },
        "outputId": "0e64f45a-674f-4908-a357-f6caadc99afb"
      },
      "source": [
        "history = model.fit(x_train, y_train,\n",
        "          batch_size=batch_size,\n",
        "          epochs=epochs,\n",
        "          verbose=1,\n",
        "          validation_data=(x_test, y_test))"
      ],
      "execution_count": 6,
      "outputs": [
        {
          "output_type": "stream",
          "text": [
            "Train on 1400 samples, validate on 60 samples\n",
            "Epoch 1/100\n",
            "1400/1400 [==============================] - 38s 27ms/step - loss: 0.7090 - accuracy: 0.5793 - val_loss: 0.8147 - val_accuracy: 0.4000\n",
            "Epoch 2/100\n",
            "1400/1400 [==============================] - 12s 9ms/step - loss: 0.6208 - accuracy: 0.6571 - val_loss: 0.8452 - val_accuracy: 0.4333\n",
            "Epoch 3/100\n",
            "1400/1400 [==============================] - 12s 9ms/step - loss: 0.5405 - accuracy: 0.7300 - val_loss: 0.8701 - val_accuracy: 0.4500\n",
            "Epoch 4/100\n",
            "1400/1400 [==============================] - 12s 9ms/step - loss: 0.5045 - accuracy: 0.7521 - val_loss: 0.8990 - val_accuracy: 0.4833\n",
            "Epoch 5/100\n",
            "1400/1400 [==============================] - 12s 9ms/step - loss: 0.4750 - accuracy: 0.7829 - val_loss: 0.8536 - val_accuracy: 0.5000\n",
            "Epoch 6/100\n",
            "1400/1400 [==============================] - 12s 9ms/step - loss: 0.4389 - accuracy: 0.8064 - val_loss: 0.7873 - val_accuracy: 0.5333\n",
            "Epoch 7/100\n",
            "1400/1400 [==============================] - 12s 9ms/step - loss: 0.4068 - accuracy: 0.8264 - val_loss: 0.7980 - val_accuracy: 0.5500\n",
            "Epoch 8/100\n",
            "1400/1400 [==============================] - 12s 9ms/step - loss: 0.3933 - accuracy: 0.8493 - val_loss: 0.7382 - val_accuracy: 0.6500\n",
            "Epoch 9/100\n",
            "1400/1400 [==============================] - 12s 9ms/step - loss: 0.3743 - accuracy: 0.8421 - val_loss: 0.7243 - val_accuracy: 0.6167\n",
            "Epoch 10/100\n",
            "1400/1400 [==============================] - 12s 9ms/step - loss: 0.3601 - accuracy: 0.8393 - val_loss: 0.8625 - val_accuracy: 0.5833\n",
            "Epoch 11/100\n",
            "1400/1400 [==============================] - 12s 9ms/step - loss: 0.3571 - accuracy: 0.8493 - val_loss: 0.7307 - val_accuracy: 0.6500\n",
            "Epoch 12/100\n",
            "1400/1400 [==============================] - 12s 9ms/step - loss: 0.3638 - accuracy: 0.8450 - val_loss: 0.8804 - val_accuracy: 0.6000\n",
            "Epoch 13/100\n",
            "1400/1400 [==============================] - 12s 9ms/step - loss: 0.3130 - accuracy: 0.8743 - val_loss: 0.7122 - val_accuracy: 0.6333\n",
            "Epoch 14/100\n",
            "1400/1400 [==============================] - 12s 9ms/step - loss: 0.3138 - accuracy: 0.8714 - val_loss: 0.7806 - val_accuracy: 0.6833\n",
            "Epoch 15/100\n",
            "1400/1400 [==============================] - 12s 9ms/step - loss: 0.2920 - accuracy: 0.8843 - val_loss: 0.7083 - val_accuracy: 0.6500\n",
            "Epoch 16/100\n",
            "1400/1400 [==============================] - 12s 9ms/step - loss: 0.2683 - accuracy: 0.8943 - val_loss: 0.6987 - val_accuracy: 0.6833\n",
            "Epoch 17/100\n",
            "1400/1400 [==============================] - 12s 9ms/step - loss: 0.2598 - accuracy: 0.9036 - val_loss: 0.6883 - val_accuracy: 0.6833\n",
            "Epoch 18/100\n",
            "1400/1400 [==============================] - 12s 9ms/step - loss: 0.2645 - accuracy: 0.8886 - val_loss: 0.7031 - val_accuracy: 0.6833\n",
            "Epoch 19/100\n",
            "1400/1400 [==============================] - 12s 9ms/step - loss: 0.2418 - accuracy: 0.9171 - val_loss: 0.7109 - val_accuracy: 0.7000\n",
            "Epoch 20/100\n",
            "1400/1400 [==============================] - 12s 9ms/step - loss: 0.2298 - accuracy: 0.9207 - val_loss: 0.7160 - val_accuracy: 0.6833\n",
            "Epoch 21/100\n",
            "1400/1400 [==============================] - 12s 9ms/step - loss: 0.2261 - accuracy: 0.9207 - val_loss: 0.7031 - val_accuracy: 0.7000\n",
            "Epoch 22/100\n",
            "1400/1400 [==============================] - 12s 9ms/step - loss: 0.2218 - accuracy: 0.9150 - val_loss: 0.7444 - val_accuracy: 0.7000\n",
            "Epoch 23/100\n",
            "1400/1400 [==============================] - 12s 9ms/step - loss: 0.2076 - accuracy: 0.9250 - val_loss: 0.7219 - val_accuracy: 0.6833\n",
            "Epoch 24/100\n",
            "1400/1400 [==============================] - 12s 9ms/step - loss: 0.2110 - accuracy: 0.9214 - val_loss: 0.7251 - val_accuracy: 0.7000\n",
            "Epoch 25/100\n",
            "1400/1400 [==============================] - 12s 9ms/step - loss: 0.2001 - accuracy: 0.9286 - val_loss: 0.7052 - val_accuracy: 0.6833\n",
            "Epoch 26/100\n",
            "1400/1400 [==============================] - 12s 9ms/step - loss: 0.2155 - accuracy: 0.9236 - val_loss: 0.7506 - val_accuracy: 0.7000\n",
            "Epoch 27/100\n",
            "1400/1400 [==============================] - 12s 9ms/step - loss: 0.1869 - accuracy: 0.9393 - val_loss: 0.8039 - val_accuracy: 0.7000\n",
            "Epoch 28/100\n",
            "1400/1400 [==============================] - 12s 9ms/step - loss: 0.1853 - accuracy: 0.9321 - val_loss: 0.7448 - val_accuracy: 0.6833\n",
            "Epoch 29/100\n",
            "1400/1400 [==============================] - 12s 9ms/step - loss: 0.1670 - accuracy: 0.9479 - val_loss: 0.7259 - val_accuracy: 0.7000\n",
            "Epoch 30/100\n",
            "1400/1400 [==============================] - 12s 9ms/step - loss: 0.1658 - accuracy: 0.9421 - val_loss: 0.7341 - val_accuracy: 0.7000\n",
            "Epoch 31/100\n",
            "1400/1400 [==============================] - 12s 9ms/step - loss: 0.1614 - accuracy: 0.9436 - val_loss: 0.7073 - val_accuracy: 0.7000\n",
            "Epoch 32/100\n",
            "1400/1400 [==============================] - 12s 9ms/step - loss: 0.1519 - accuracy: 0.9521 - val_loss: 0.7666 - val_accuracy: 0.6833\n",
            "Epoch 33/100\n",
            "1400/1400 [==============================] - 12s 9ms/step - loss: 0.1430 - accuracy: 0.9557 - val_loss: 0.7944 - val_accuracy: 0.6667\n",
            "Epoch 34/100\n",
            "1400/1400 [==============================] - 12s 9ms/step - loss: 0.1385 - accuracy: 0.9564 - val_loss: 0.7613 - val_accuracy: 0.6667\n",
            "Epoch 35/100\n",
            "1400/1400 [==============================] - 12s 9ms/step - loss: 0.1359 - accuracy: 0.9564 - val_loss: 0.7958 - val_accuracy: 0.6667\n",
            "Epoch 36/100\n",
            "1400/1400 [==============================] - 12s 9ms/step - loss: 0.1417 - accuracy: 0.9500 - val_loss: 0.7898 - val_accuracy: 0.6500\n",
            "Epoch 37/100\n",
            "1400/1400 [==============================] - 12s 9ms/step - loss: 0.1322 - accuracy: 0.9600 - val_loss: 0.7674 - val_accuracy: 0.6667\n",
            "Epoch 38/100\n",
            "1400/1400 [==============================] - 12s 9ms/step - loss: 0.1193 - accuracy: 0.9621 - val_loss: 0.8154 - val_accuracy: 0.6667\n",
            "Epoch 39/100\n",
            "1400/1400 [==============================] - 12s 9ms/step - loss: 0.1257 - accuracy: 0.9629 - val_loss: 0.7841 - val_accuracy: 0.6500\n",
            "Epoch 40/100\n",
            "1400/1400 [==============================] - 12s 9ms/step - loss: 0.1158 - accuracy: 0.9636 - val_loss: 0.8209 - val_accuracy: 0.6500\n",
            "Epoch 41/100\n",
            "1400/1400 [==============================] - 12s 9ms/step - loss: 0.1119 - accuracy: 0.9636 - val_loss: 0.8510 - val_accuracy: 0.6667\n",
            "Epoch 42/100\n",
            "1400/1400 [==============================] - 12s 9ms/step - loss: 0.1080 - accuracy: 0.9693 - val_loss: 0.8071 - val_accuracy: 0.6667\n",
            "Epoch 43/100\n",
            "1400/1400 [==============================] - 12s 9ms/step - loss: 0.1056 - accuracy: 0.9679 - val_loss: 0.8921 - val_accuracy: 0.7000\n",
            "Epoch 44/100\n",
            "1400/1400 [==============================] - 12s 9ms/step - loss: 0.1166 - accuracy: 0.9593 - val_loss: 0.8498 - val_accuracy: 0.6500\n",
            "Epoch 45/100\n",
            "1400/1400 [==============================] - 12s 9ms/step - loss: 0.0986 - accuracy: 0.9721 - val_loss: 0.8456 - val_accuracy: 0.6500\n",
            "Epoch 46/100\n",
            "1400/1400 [==============================] - 12s 9ms/step - loss: 0.0917 - accuracy: 0.9764 - val_loss: 0.8575 - val_accuracy: 0.6833\n",
            "Epoch 47/100\n",
            "1400/1400 [==============================] - 12s 9ms/step - loss: 0.0900 - accuracy: 0.9729 - val_loss: 0.8504 - val_accuracy: 0.6333\n",
            "Epoch 48/100\n",
            "1400/1400 [==============================] - 12s 9ms/step - loss: 0.0896 - accuracy: 0.9750 - val_loss: 0.8990 - val_accuracy: 0.6500\n",
            "Epoch 49/100\n",
            "1400/1400 [==============================] - 12s 9ms/step - loss: 0.0873 - accuracy: 0.9771 - val_loss: 0.8687 - val_accuracy: 0.6667\n",
            "Epoch 50/100\n",
            "1400/1400 [==============================] - 12s 9ms/step - loss: 0.0821 - accuracy: 0.9821 - val_loss: 0.9227 - val_accuracy: 0.6667\n",
            "Epoch 51/100\n",
            "1400/1400 [==============================] - 12s 9ms/step - loss: 0.0854 - accuracy: 0.9729 - val_loss: 0.9119 - val_accuracy: 0.7167\n",
            "Epoch 52/100\n",
            "1400/1400 [==============================] - 12s 9ms/step - loss: 0.0923 - accuracy: 0.9657 - val_loss: 0.9150 - val_accuracy: 0.6333\n",
            "Epoch 53/100\n",
            "1400/1400 [==============================] - 12s 9ms/step - loss: 0.0775 - accuracy: 0.9793 - val_loss: 0.8913 - val_accuracy: 0.6333\n",
            "Epoch 54/100\n",
            "1400/1400 [==============================] - 12s 9ms/step - loss: 0.0710 - accuracy: 0.9857 - val_loss: 0.9323 - val_accuracy: 0.6333\n",
            "Epoch 55/100\n",
            "1400/1400 [==============================] - 12s 9ms/step - loss: 0.0726 - accuracy: 0.9807 - val_loss: 0.9627 - val_accuracy: 0.7000\n",
            "Epoch 56/100\n",
            "1400/1400 [==============================] - 12s 9ms/step - loss: 0.0690 - accuracy: 0.9857 - val_loss: 0.9433 - val_accuracy: 0.6500\n",
            "Epoch 57/100\n",
            "1400/1400 [==============================] - 12s 9ms/step - loss: 0.0647 - accuracy: 0.9857 - val_loss: 0.9631 - val_accuracy: 0.6667\n",
            "Epoch 58/100\n",
            "1400/1400 [==============================] - 12s 9ms/step - loss: 0.0618 - accuracy: 0.9900 - val_loss: 0.9629 - val_accuracy: 0.6667\n",
            "Epoch 59/100\n",
            "1400/1400 [==============================] - 12s 9ms/step - loss: 0.0607 - accuracy: 0.9886 - val_loss: 0.9576 - val_accuracy: 0.6333\n",
            "Epoch 60/100\n",
            "1400/1400 [==============================] - 12s 9ms/step - loss: 0.0570 - accuracy: 0.9893 - val_loss: 0.9671 - val_accuracy: 0.6500\n",
            "Epoch 61/100\n",
            "1400/1400 [==============================] - 12s 9ms/step - loss: 0.0634 - accuracy: 0.9857 - val_loss: 0.9928 - val_accuracy: 0.6500\n",
            "Epoch 62/100\n",
            "1400/1400 [==============================] - 12s 9ms/step - loss: 0.0552 - accuracy: 0.9921 - val_loss: 0.9815 - val_accuracy: 0.6500\n",
            "Epoch 63/100\n",
            "1400/1400 [==============================] - 12s 9ms/step - loss: 0.0561 - accuracy: 0.9893 - val_loss: 1.0248 - val_accuracy: 0.7000\n",
            "Epoch 64/100\n",
            "1400/1400 [==============================] - 12s 9ms/step - loss: 0.0598 - accuracy: 0.9829 - val_loss: 1.0466 - val_accuracy: 0.6667\n",
            "Epoch 65/100\n",
            "1400/1400 [==============================] - 12s 9ms/step - loss: 0.0650 - accuracy: 0.9850 - val_loss: 1.0328 - val_accuracy: 0.6500\n",
            "Epoch 66/100\n",
            "1400/1400 [==============================] - 12s 9ms/step - loss: 0.0644 - accuracy: 0.9836 - val_loss: 1.0169 - val_accuracy: 0.6500\n",
            "Epoch 67/100\n",
            "1400/1400 [==============================] - 12s 9ms/step - loss: 0.0491 - accuracy: 0.9921 - val_loss: 1.0569 - val_accuracy: 0.6500\n",
            "Epoch 68/100\n",
            "1400/1400 [==============================] - 12s 9ms/step - loss: 0.0490 - accuracy: 0.9921 - val_loss: 1.0458 - val_accuracy: 0.6500\n",
            "Epoch 69/100\n",
            "1400/1400 [==============================] - 12s 9ms/step - loss: 0.0435 - accuracy: 0.9950 - val_loss: 1.0689 - val_accuracy: 0.6500\n",
            "Epoch 70/100\n",
            "1400/1400 [==============================] - 12s 9ms/step - loss: 0.0373 - accuracy: 0.9979 - val_loss: 1.0928 - val_accuracy: 0.6333\n",
            "Epoch 71/100\n",
            "1400/1400 [==============================] - 12s 9ms/step - loss: 0.0387 - accuracy: 0.9957 - val_loss: 1.0762 - val_accuracy: 0.6333\n",
            "Epoch 72/100\n",
            "1400/1400 [==============================] - 12s 9ms/step - loss: 0.0397 - accuracy: 0.9957 - val_loss: 1.0932 - val_accuracy: 0.6667\n",
            "Epoch 73/100\n",
            "1400/1400 [==============================] - 12s 9ms/step - loss: 0.0370 - accuracy: 0.9950 - val_loss: 1.0543 - val_accuracy: 0.6500\n",
            "Epoch 74/100\n",
            "1400/1400 [==============================] - 12s 9ms/step - loss: 0.0389 - accuracy: 0.9971 - val_loss: 1.1067 - val_accuracy: 0.6500\n",
            "Epoch 75/100\n",
            "1400/1400 [==============================] - 12s 9ms/step - loss: 0.0340 - accuracy: 0.9964 - val_loss: 1.1148 - val_accuracy: 0.6500\n",
            "Epoch 76/100\n",
            "1400/1400 [==============================] - 12s 9ms/step - loss: 0.0344 - accuracy: 0.9971 - val_loss: 1.1188 - val_accuracy: 0.6500\n",
            "Epoch 77/100\n",
            "1400/1400 [==============================] - 12s 9ms/step - loss: 0.0309 - accuracy: 0.9979 - val_loss: 1.1545 - val_accuracy: 0.6667\n",
            "Epoch 78/100\n",
            "1400/1400 [==============================] - 12s 9ms/step - loss: 0.0326 - accuracy: 0.9986 - val_loss: 1.1212 - val_accuracy: 0.6333\n",
            "Epoch 79/100\n",
            "1400/1400 [==============================] - 12s 9ms/step - loss: 0.0340 - accuracy: 0.9957 - val_loss: 1.0913 - val_accuracy: 0.6500\n",
            "Epoch 80/100\n",
            "1400/1400 [==============================] - 12s 9ms/step - loss: 0.0304 - accuracy: 0.9986 - val_loss: 1.1918 - val_accuracy: 0.6667\n",
            "Epoch 81/100\n",
            "1400/1400 [==============================] - 12s 9ms/step - loss: 0.0313 - accuracy: 0.9986 - val_loss: 1.1404 - val_accuracy: 0.6500\n",
            "Epoch 82/100\n",
            "1400/1400 [==============================] - 12s 9ms/step - loss: 0.0271 - accuracy: 0.9993 - val_loss: 1.1971 - val_accuracy: 0.6500\n",
            "Epoch 83/100\n",
            "1400/1400 [==============================] - 12s 9ms/step - loss: 0.0269 - accuracy: 0.9986 - val_loss: 1.1748 - val_accuracy: 0.6333\n",
            "Epoch 84/100\n",
            "1400/1400 [==============================] - 12s 9ms/step - loss: 0.0274 - accuracy: 0.9964 - val_loss: 1.1988 - val_accuracy: 0.6500\n",
            "Epoch 85/100\n",
            "1400/1400 [==============================] - 12s 9ms/step - loss: 0.0259 - accuracy: 0.9979 - val_loss: 1.1857 - val_accuracy: 0.6500\n",
            "Epoch 86/100\n",
            "1400/1400 [==============================] - 12s 9ms/step - loss: 0.0255 - accuracy: 0.9986 - val_loss: 1.2222 - val_accuracy: 0.6333\n",
            "Epoch 87/100\n",
            "1400/1400 [==============================] - 12s 8ms/step - loss: 0.0242 - accuracy: 0.9993 - val_loss: 1.2124 - val_accuracy: 0.6833\n",
            "Epoch 88/100\n",
            "1400/1400 [==============================] - 12s 9ms/step - loss: 0.0302 - accuracy: 0.9971 - val_loss: 1.2648 - val_accuracy: 0.6667\n",
            "Epoch 89/100\n",
            "1400/1400 [==============================] - 12s 9ms/step - loss: 0.0251 - accuracy: 0.9979 - val_loss: 1.2183 - val_accuracy: 0.6500\n",
            "Epoch 90/100\n",
            "1400/1400 [==============================] - 12s 9ms/step - loss: 0.0242 - accuracy: 0.9979 - val_loss: 1.2080 - val_accuracy: 0.6500\n",
            "Epoch 91/100\n",
            "1400/1400 [==============================] - 12s 9ms/step - loss: 0.0210 - accuracy: 1.0000 - val_loss: 1.2372 - val_accuracy: 0.6500\n",
            "Epoch 92/100\n",
            "1400/1400 [==============================] - 12s 9ms/step - loss: 0.0212 - accuracy: 1.0000 - val_loss: 1.2605 - val_accuracy: 0.6500\n",
            "Epoch 93/100\n",
            "1400/1400 [==============================] - 12s 9ms/step - loss: 0.0185 - accuracy: 1.0000 - val_loss: 1.2273 - val_accuracy: 0.6667\n",
            "Epoch 94/100\n",
            "1400/1400 [==============================] - 12s 8ms/step - loss: 0.0195 - accuracy: 0.9993 - val_loss: 1.2335 - val_accuracy: 0.6667\n",
            "Epoch 95/100\n",
            "1400/1400 [==============================] - 12s 9ms/step - loss: 0.0184 - accuracy: 0.9993 - val_loss: 1.2678 - val_accuracy: 0.6500\n",
            "Epoch 96/100\n",
            "1400/1400 [==============================] - 12s 9ms/step - loss: 0.0188 - accuracy: 1.0000 - val_loss: 1.2707 - val_accuracy: 0.6500\n",
            "Epoch 97/100\n",
            "1400/1400 [==============================] - 12s 9ms/step - loss: 0.0195 - accuracy: 0.9993 - val_loss: 1.2609 - val_accuracy: 0.6500\n",
            "Epoch 98/100\n",
            "1400/1400 [==============================] - 12s 8ms/step - loss: 0.0185 - accuracy: 1.0000 - val_loss: 1.3097 - val_accuracy: 0.6500\n",
            "Epoch 99/100\n",
            "1400/1400 [==============================] - 12s 9ms/step - loss: 0.0172 - accuracy: 1.0000 - val_loss: 1.3210 - val_accuracy: 0.6500\n",
            "Epoch 100/100\n",
            "1400/1400 [==============================] - 12s 9ms/step - loss: 0.0167 - accuracy: 1.0000 - val_loss: 1.2346 - val_accuracy: 0.6667\n"
          ],
          "name": "stdout"
        }
      ]
    },
    {
      "cell_type": "code",
      "metadata": {
        "id": "_hw6y8U2Dj7X",
        "colab_type": "code",
        "colab": {
          "base_uri": "https://localhost:8080/",
          "height": 51
        },
        "outputId": "8c86fb83-f62a-4438-c3f8-f3fe5d2edbd5"
      },
      "source": [
        "print(model.evaluate(x_test, y_test, verbose=1))"
      ],
      "execution_count": 7,
      "outputs": [
        {
          "output_type": "stream",
          "text": [
            "60/60 [==============================] - 6s 97ms/step\n",
            "[1.2345778862635295, 0.6666666865348816]\n"
          ],
          "name": "stdout"
        }
      ]
    },
    {
      "cell_type": "code",
      "metadata": {
        "id": "ui7ccl4n-R75",
        "colab_type": "code",
        "colab": {
          "base_uri": "https://localhost:8080/",
          "height": 573
        },
        "outputId": "17830eb1-9205-40ff-b65c-8e7165311db1"
      },
      "source": [
        "def plot_loss_accuracy_graph(fit_record):\n",
        "  #青い線で誤差履歴をプロット、検証誤差は黒色で\n",
        "  plt.plot(fit_record.history[\"loss\"],\"-D\",color=\"blue\",label=\"train_loss\",linewidth = 2)\n",
        "  plt.plot(fit_record.history[\"val_loss\"],\"-D\",color=\"black\",label=\"val_loss\",linewidth=2)\n",
        "  plt.title(\"loss\")\n",
        "  plt.xlabel(\"epochs\")\n",
        "  plt.ylabel(\"loss\")\n",
        "  plt.show()\n",
        "\n",
        "  #緑の線で精度の履歴をプロット、検証次の精度は黒い線で\n",
        "  plt.plot(fit_record.history[\"accuracy\"],\"-o\",color=\"green\",label=\"train_accuracy\",linewidth=2)\n",
        "  plt.plot(fit_record.history[\"val_accuracy\"],\"-o\",color=\"black\",label=\"val_accuracy\",linewidth=2)\n",
        "  plt.title(\"accuracy\")\n",
        "  plt.xlabel(\"epochs\")\n",
        "  plt.ylabel(\"accuracy\")\n",
        "  plt.legend(loc=\"lower right\")\n",
        "  plt.show()\n",
        "\n",
        "#画像認識プログラミングレシピ\n",
        "import matplotlib.pyplot as plt\n",
        "plot_loss_accuracy_graph(history)"
      ],
      "execution_count": 8,
      "outputs": [
        {
          "output_type": "display_data",
          "data": {
            "image/png": "[encoded data removed]",
            "text/plain": [
              "<Figure size 432x288 with 1 Axes>"
            ]
          },
          "metadata": {
            "tags": [],
            "needs_background": "light"
          }
        },
        {
          "output_type": "display_data",
          "data": {
            "image/png": "[encoded data removed]",
            "text/plain": [
              "<Figure size 432x288 with 1 Axes>"
            ]
          },
          "metadata": {
            "tags": [],
            "needs_background": "light"
          }
        }
      ]
    },
    {
      "cell_type": "code",
      "metadata": {
        "id": "2rhpccwZ-S1P",
        "colab_type": "code",
        "colab": {
          "base_uri": "https://localhost:8080/",
          "height": 935
        },
        "outputId": "a97efaa4-5504-453d-ba0a-c19ee78ce593"
      },
      "source": [
        "from keras.models import Sequential, Model\n",
        "from keras.layers import Dense, GlobalAveragePooling2D\n",
        "from keras.applications.vgg16 import VGG16\n",
        "base_model = VGG16(weights='imagenet', include_top=False)\n",
        "x = base_model.output\n",
        "x = GlobalAveragePooling2D()(x)\n",
        "x = Dense(1024, activation='relu')(x)\n",
        "x = Dropout(0.5, noise_shape=None, seed=None)(x)\n",
        "predictions = Dense(num_classes, activation='softmax')(x)\n",
        "model = Model(inputs=base_model.input, outputs=predictions)\n",
        "for layer in base_model.layers:\n",
        "    layer.trainable = False\n",
        "model.compile(loss=keras.losses.categorical_crossentropy,\n",
        "              optimizer=\"adam\",\n",
        "              metrics=['accuracy'])\n",
        "model.summary()\n"
      ],
      "execution_count": 9,
      "outputs": [
        {
          "output_type": "stream",
          "text": [
            "Model: \"model_2\"\n",
            "_________________________________________________________________\n",
            "Layer (type)                 Output Shape              Param #   \n",
            "=================================================================\n",
            "input_3 (InputLayer)         (None, None, None, 3)     0         \n",
            "_________________________________________________________________\n",
            "block1_conv1 (Conv2D)        (None, None, None, 64)    1792      \n",
            "_________________________________________________________________\n",
            "block1_conv2 (Conv2D)        (None, None, None, 64)    36928     \n",
            "_________________________________________________________________\n",
            "block1_pool (MaxPooling2D)   (None, None, None, 64)    0         \n",
            "_________________________________________________________________\n",
            "block2_conv1 (Conv2D)        (None, None, None, 128)   73856     \n",
            "_________________________________________________________________\n",
            "block2_conv2 (Conv2D)        (None, None, None, 128)   147584    \n",
            "_________________________________________________________________\n",
            "block2_pool (MaxPooling2D)   (None, None, None, 128)   0         \n",
            "_________________________________________________________________\n",
            "block3_conv1 (Conv2D)        (None, None, None, 256)   295168    \n",
            "_________________________________________________________________\n",
            "block3_conv2 (Conv2D)        (None, None, None, 256)   590080    \n",
            "_________________________________________________________________\n",
            "block3_conv3 (Conv2D)        (None, None, None, 256)   590080    \n",
            "_________________________________________________________________\n",
            "block3_pool (MaxPooling2D)   (None, None, None, 256)   0         \n",
            "_________________________________________________________________\n",
            "block4_conv1 (Conv2D)        (None, None, None, 512)   1180160   \n",
            "_________________________________________________________________\n",
            "block4_conv2 (Conv2D)        (None, None, None, 512)   2359808   \n",
            "_________________________________________________________________\n",
            "block4_conv3 (Conv2D)        (None, None, None, 512)   2359808   \n",
            "_________________________________________________________________\n",
            "block4_pool (MaxPooling2D)   (None, None, None, 512)   0         \n",
            "_________________________________________________________________\n",
            "block5_conv1 (Conv2D)        (None, None, None, 512)   2359808   \n",
            "_________________________________________________________________\n",
            "block5_conv2 (Conv2D)        (None, None, None, 512)   2359808   \n",
            "_________________________________________________________________\n",
            "block5_conv3 (Conv2D)        (None, None, None, 512)   2359808   \n",
            "_________________________________________________________________\n",
            "block5_pool (MaxPooling2D)   (None, None, None, 512)   0         \n",
            "_________________________________________________________________\n",
            "global_average_pooling2d_3 ( (None, 512)               0         \n",
            "_________________________________________________________________\n",
            "dense_4 (Dense)              (None, 1024)              525312    \n",
            "_________________________________________________________________\n",
            "dropout_3 (Dropout)          (None, 1024)              0         \n",
            "_________________________________________________________________\n",
            "dense_5 (Dense)              (None, 2)                 2050      \n",
            "=================================================================\n",
            "Total params: 15,242,050\n",
            "Trainable params: 527,362\n",
            "Non-trainable params: 14,714,688\n",
            "_________________________________________________________________\n"
          ],
          "name": "stdout"
        }
      ]
    },
    {
      "cell_type": "code",
      "metadata": {
        "id": "bYg1uFdocRBe",
        "colab_type": "code",
        "colab": {}
      },
      "source": [
        ""
      ],
      "execution_count": null,
      "outputs": []
    }
  ]
}